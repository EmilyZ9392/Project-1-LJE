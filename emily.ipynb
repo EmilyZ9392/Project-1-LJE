{
 "cells": [
  {
   "cell_type": "code",
   "execution_count": null,
   "metadata": {},
   "outputs": [],
   "source": []
  },
  {
   "cell_type": "code",
   "execution_count": 210,
   "metadata": {},
   "outputs": [],
   "source": [
    "%matplotlib inline"
   ]
  },
  {
   "cell_type": "code",
   "execution_count": 211,
   "metadata": {},
   "outputs": [],
   "source": [
    "# Dependencies\n",
    "import matplotlib.pyplot as plt\n",
    "import numpy as np\n",
    "import pandas as pd\n",
    "import os\n",
    "import seaborn as sns"
   ]
  },
  {
   "cell_type": "code",
   "execution_count": 212,
   "metadata": {},
   "outputs": [
    {
     "data": {
      "text/plain": [
       "'/Users/emilyzinn/Desktop'"
      ]
     },
     "execution_count": 212,
     "metadata": {},
     "output_type": "execute_result"
    }
   ],
   "source": [
    "os.getcwd()"
   ]
  },
  {
   "cell_type": "code",
   "execution_count": 213,
   "metadata": {},
   "outputs": [],
   "source": [
    "# Load in csv\n",
    "csv_path = os.path.join(os.getcwd(),'accidents.csv')\n",
    "    "
   ]
  },
  {
   "cell_type": "code",
   "execution_count": 214,
   "metadata": {},
   "outputs": [],
   "source": [
    "df = pd.read_csv(csv_path)"
   ]
  },
  {
   "cell_type": "code",
   "execution_count": 215,
   "metadata": {},
   "outputs": [
    {
     "data": {
      "text/plain": [
       "Index(['ID', 'Severity', 'Start_Time', 'End_Time', 'Start_Lat', 'Start_Lng',\n",
       "       'End_Lat', 'End_Lng', 'Distance(mi)', 'Description', 'Number', 'Street',\n",
       "       'Side', 'City', 'County', 'State', 'Zipcode', 'Country', 'Timezone',\n",
       "       'Airport_Code', 'Weather_Timestamp', 'Temperature(F)', 'Wind_Chill(F)',\n",
       "       'Humidity(%)', 'Pressure(in)', 'Visibility(mi)', 'Wind_Direction',\n",
       "       'Wind_Speed(mph)', 'Precipitation(in)', 'Weather_Condition', 'Amenity',\n",
       "       'Bump', 'Crossing', 'Give_Way', 'Junction', 'No_Exit', 'Railway',\n",
       "       'Roundabout', 'Station', 'Stop', 'Traffic_Calming', 'Traffic_Signal',\n",
       "       'Turning_Loop', 'Sunrise_Sunset', 'Civil_Twilight', 'Nautical_Twilight',\n",
       "       'Astronomical_Twilight'],\n",
       "      dtype='object')"
      ]
     },
     "execution_count": 215,
     "metadata": {},
     "output_type": "execute_result"
    }
   ],
   "source": [
    "df.columns"
   ]
  },
  {
   "cell_type": "code",
   "execution_count": 216,
   "metadata": {},
   "outputs": [
    {
     "data": {
      "text/html": [
       "<div>\n",
       "<style scoped>\n",
       "    .dataframe tbody tr th:only-of-type {\n",
       "        vertical-align: middle;\n",
       "    }\n",
       "\n",
       "    .dataframe tbody tr th {\n",
       "        vertical-align: top;\n",
       "    }\n",
       "\n",
       "    .dataframe thead th {\n",
       "        text-align: right;\n",
       "    }\n",
       "</style>\n",
       "<table border=\"1\" class=\"dataframe\">\n",
       "  <thead>\n",
       "    <tr style=\"text-align: right;\">\n",
       "      <th></th>\n",
       "      <th>ID</th>\n",
       "      <th>Severity</th>\n",
       "      <th>Start_Time</th>\n",
       "      <th>End_Time</th>\n",
       "      <th>Start_Lat</th>\n",
       "      <th>Start_Lng</th>\n",
       "      <th>End_Lat</th>\n",
       "      <th>End_Lng</th>\n",
       "      <th>Distance(mi)</th>\n",
       "      <th>Description</th>\n",
       "      <th>...</th>\n",
       "      <th>Roundabout</th>\n",
       "      <th>Station</th>\n",
       "      <th>Stop</th>\n",
       "      <th>Traffic_Calming</th>\n",
       "      <th>Traffic_Signal</th>\n",
       "      <th>Turning_Loop</th>\n",
       "      <th>Sunrise_Sunset</th>\n",
       "      <th>Civil_Twilight</th>\n",
       "      <th>Nautical_Twilight</th>\n",
       "      <th>Astronomical_Twilight</th>\n",
       "    </tr>\n",
       "  </thead>\n",
       "  <tbody>\n",
       "    <tr>\n",
       "      <th>0</th>\n",
       "      <td>A-1</td>\n",
       "      <td>2</td>\n",
       "      <td>2019-05-21 08:29:55</td>\n",
       "      <td>2019-05-21 09:29:40</td>\n",
       "      <td>34.808868</td>\n",
       "      <td>-82.269157</td>\n",
       "      <td>34.808868</td>\n",
       "      <td>-82.269157</td>\n",
       "      <td>0.0</td>\n",
       "      <td>Accident on Tanner Rd at Pennbrooke Ln.</td>\n",
       "      <td>...</td>\n",
       "      <td>False</td>\n",
       "      <td>False</td>\n",
       "      <td>False</td>\n",
       "      <td>False</td>\n",
       "      <td>False</td>\n",
       "      <td>False</td>\n",
       "      <td>Day</td>\n",
       "      <td>Day</td>\n",
       "      <td>Day</td>\n",
       "      <td>Day</td>\n",
       "    </tr>\n",
       "    <tr>\n",
       "      <th>1</th>\n",
       "      <td>A-2</td>\n",
       "      <td>2</td>\n",
       "      <td>2019-10-07 17:43:09</td>\n",
       "      <td>2019-10-07 19:42:50</td>\n",
       "      <td>35.090080</td>\n",
       "      <td>-80.745560</td>\n",
       "      <td>35.090080</td>\n",
       "      <td>-80.745560</td>\n",
       "      <td>0.0</td>\n",
       "      <td>Accident on Houston Branch Rd at Providence Br...</td>\n",
       "      <td>...</td>\n",
       "      <td>False</td>\n",
       "      <td>False</td>\n",
       "      <td>False</td>\n",
       "      <td>False</td>\n",
       "      <td>False</td>\n",
       "      <td>False</td>\n",
       "      <td>Day</td>\n",
       "      <td>Day</td>\n",
       "      <td>Day</td>\n",
       "      <td>Day</td>\n",
       "    </tr>\n",
       "    <tr>\n",
       "      <th>2</th>\n",
       "      <td>A-3</td>\n",
       "      <td>2</td>\n",
       "      <td>2020-12-13 21:53:00</td>\n",
       "      <td>2020-12-13 22:44:00</td>\n",
       "      <td>37.145730</td>\n",
       "      <td>-121.985052</td>\n",
       "      <td>37.165850</td>\n",
       "      <td>-121.988062</td>\n",
       "      <td>1.4</td>\n",
       "      <td>Stationary traffic on CA-17 from Summit Rd (CA...</td>\n",
       "      <td>...</td>\n",
       "      <td>False</td>\n",
       "      <td>False</td>\n",
       "      <td>False</td>\n",
       "      <td>False</td>\n",
       "      <td>False</td>\n",
       "      <td>False</td>\n",
       "      <td>Night</td>\n",
       "      <td>Night</td>\n",
       "      <td>Night</td>\n",
       "      <td>Night</td>\n",
       "    </tr>\n",
       "    <tr>\n",
       "      <th>3</th>\n",
       "      <td>A-4</td>\n",
       "      <td>2</td>\n",
       "      <td>2018-04-17 16:51:23</td>\n",
       "      <td>2018-04-17 17:50:46</td>\n",
       "      <td>39.110390</td>\n",
       "      <td>-119.773781</td>\n",
       "      <td>39.110390</td>\n",
       "      <td>-119.773781</td>\n",
       "      <td>0.0</td>\n",
       "      <td>Accident on US-395 Southbound at Topsy Ln.</td>\n",
       "      <td>...</td>\n",
       "      <td>False</td>\n",
       "      <td>False</td>\n",
       "      <td>False</td>\n",
       "      <td>False</td>\n",
       "      <td>True</td>\n",
       "      <td>False</td>\n",
       "      <td>Day</td>\n",
       "      <td>Day</td>\n",
       "      <td>Day</td>\n",
       "      <td>Day</td>\n",
       "    </tr>\n",
       "    <tr>\n",
       "      <th>4</th>\n",
       "      <td>A-5</td>\n",
       "      <td>3</td>\n",
       "      <td>2016-08-31 17:40:49</td>\n",
       "      <td>2016-08-31 18:10:49</td>\n",
       "      <td>26.102942</td>\n",
       "      <td>-80.265091</td>\n",
       "      <td>26.102942</td>\n",
       "      <td>-80.265091</td>\n",
       "      <td>0.0</td>\n",
       "      <td>Accident on I-595 Westbound at Exit 4 / Pine I...</td>\n",
       "      <td>...</td>\n",
       "      <td>False</td>\n",
       "      <td>False</td>\n",
       "      <td>False</td>\n",
       "      <td>False</td>\n",
       "      <td>True</td>\n",
       "      <td>False</td>\n",
       "      <td>Day</td>\n",
       "      <td>Day</td>\n",
       "      <td>Day</td>\n",
       "      <td>Day</td>\n",
       "    </tr>\n",
       "  </tbody>\n",
       "</table>\n",
       "<p>5 rows × 47 columns</p>\n",
       "</div>"
      ],
      "text/plain": [
       "    ID  Severity           Start_Time             End_Time  Start_Lat  \\\n",
       "0  A-1         2  2019-05-21 08:29:55  2019-05-21 09:29:40  34.808868   \n",
       "1  A-2         2  2019-10-07 17:43:09  2019-10-07 19:42:50  35.090080   \n",
       "2  A-3         2  2020-12-13 21:53:00  2020-12-13 22:44:00  37.145730   \n",
       "3  A-4         2  2018-04-17 16:51:23  2018-04-17 17:50:46  39.110390   \n",
       "4  A-5         3  2016-08-31 17:40:49  2016-08-31 18:10:49  26.102942   \n",
       "\n",
       "    Start_Lng    End_Lat     End_Lng  Distance(mi)  \\\n",
       "0  -82.269157  34.808868  -82.269157           0.0   \n",
       "1  -80.745560  35.090080  -80.745560           0.0   \n",
       "2 -121.985052  37.165850 -121.988062           1.4   \n",
       "3 -119.773781  39.110390 -119.773781           0.0   \n",
       "4  -80.265091  26.102942  -80.265091           0.0   \n",
       "\n",
       "                                         Description  ...  Roundabout Station  \\\n",
       "0            Accident on Tanner Rd at Pennbrooke Ln.  ...       False   False   \n",
       "1  Accident on Houston Branch Rd at Providence Br...  ...       False   False   \n",
       "2  Stationary traffic on CA-17 from Summit Rd (CA...  ...       False   False   \n",
       "3         Accident on US-395 Southbound at Topsy Ln.  ...       False   False   \n",
       "4  Accident on I-595 Westbound at Exit 4 / Pine I...  ...       False   False   \n",
       "\n",
       "    Stop Traffic_Calming Traffic_Signal Turning_Loop Sunrise_Sunset  \\\n",
       "0  False           False          False        False            Day   \n",
       "1  False           False          False        False            Day   \n",
       "2  False           False          False        False          Night   \n",
       "3  False           False           True        False            Day   \n",
       "4  False           False           True        False            Day   \n",
       "\n",
       "  Civil_Twilight Nautical_Twilight Astronomical_Twilight  \n",
       "0            Day               Day                   Day  \n",
       "1            Day               Day                   Day  \n",
       "2          Night             Night                 Night  \n",
       "3            Day               Day                   Day  \n",
       "4            Day               Day                   Day  \n",
       "\n",
       "[5 rows x 47 columns]"
      ]
     },
     "execution_count": 216,
     "metadata": {},
     "output_type": "execute_result"
    }
   ],
   "source": [
    "df.head()"
   ]
  },
  {
   "cell_type": "code",
   "execution_count": 217,
   "metadata": {},
   "outputs": [
    {
     "data": {
      "text/plain": [
       "ID                       2906610\n",
       "Severity                 2906610\n",
       "Start_Time               2906610\n",
       "End_Time                 2906610\n",
       "Start_Lat                2906610\n",
       "Start_Lng                2906610\n",
       "End_Lat                  2623789\n",
       "End_Lng                  2623789\n",
       "Distance(mi)             2906610\n",
       "Description              2906610\n",
       "Number                   1014938\n",
       "Street                   2906610\n",
       "Side                     2906610\n",
       "City                     2906502\n",
       "County                   2906610\n",
       "State                    2906610\n",
       "Zipcode                  2905496\n",
       "Country                  2906610\n",
       "Timezone                 2903180\n",
       "Airport_Code             2900002\n",
       "Weather_Timestamp        2859693\n",
       "Temperature(F)           2839386\n",
       "Wind_Chill(F)            1722751\n",
       "Humidity(%)              2835340\n",
       "Pressure(in)             2849702\n",
       "Visibility(mi)           2834532\n",
       "Wind_Direction           2843136\n",
       "Wind_Speed(mph)          2599447\n",
       "Precipitation(in)        1605284\n",
       "Weather_Condition        2834759\n",
       "Amenity                  2906610\n",
       "Bump                     2906610\n",
       "Crossing                 2906610\n",
       "Give_Way                 2906610\n",
       "Junction                 2906610\n",
       "No_Exit                  2906610\n",
       "Railway                  2906610\n",
       "Roundabout               2906610\n",
       "Station                  2906610\n",
       "Stop                     2906610\n",
       "Traffic_Calming          2906610\n",
       "Traffic_Signal           2906610\n",
       "Turning_Loop             2906610\n",
       "Sunrise_Sunset           2906500\n",
       "Civil_Twilight           2906500\n",
       "Nautical_Twilight        2906500\n",
       "Astronomical_Twilight    2906500\n",
       "dtype: int64"
      ]
     },
     "execution_count": 217,
     "metadata": {},
     "output_type": "execute_result"
    }
   ],
   "source": [
    "# look for missing values\n",
    "df.count()"
   ]
  },
  {
   "cell_type": "code",
   "execution_count": 218,
   "metadata": {},
   "outputs": [],
   "source": [
    " # drop null rows\n",
    "no_null_df = df.dropna(how='any')"
   ]
  },
  {
   "cell_type": "code",
   "execution_count": 219,
   "metadata": {},
   "outputs": [
    {
     "data": {
      "text/plain": [
       "ID                       524391\n",
       "Severity                 524391\n",
       "Start_Time               524391\n",
       "End_Time                 524391\n",
       "Start_Lat                524391\n",
       "Start_Lng                524391\n",
       "End_Lat                  524391\n",
       "End_Lng                  524391\n",
       "Distance(mi)             524391\n",
       "Description              524391\n",
       "Number                   524391\n",
       "Street                   524391\n",
       "Side                     524391\n",
       "City                     524391\n",
       "County                   524391\n",
       "State                    524391\n",
       "Zipcode                  524391\n",
       "Country                  524391\n",
       "Timezone                 524391\n",
       "Airport_Code             524391\n",
       "Weather_Timestamp        524391\n",
       "Temperature(F)           524391\n",
       "Wind_Chill(F)            524391\n",
       "Humidity(%)              524391\n",
       "Pressure(in)             524391\n",
       "Visibility(mi)           524391\n",
       "Wind_Direction           524391\n",
       "Wind_Speed(mph)          524391\n",
       "Precipitation(in)        524391\n",
       "Weather_Condition        524391\n",
       "Amenity                  524391\n",
       "Bump                     524391\n",
       "Crossing                 524391\n",
       "Give_Way                 524391\n",
       "Junction                 524391\n",
       "No_Exit                  524391\n",
       "Railway                  524391\n",
       "Roundabout               524391\n",
       "Station                  524391\n",
       "Stop                     524391\n",
       "Traffic_Calming          524391\n",
       "Traffic_Signal           524391\n",
       "Turning_Loop             524391\n",
       "Sunrise_Sunset           524391\n",
       "Civil_Twilight           524391\n",
       "Nautical_Twilight        524391\n",
       "Astronomical_Twilight    524391\n",
       "dtype: int64"
      ]
     },
     "execution_count": 219,
     "metadata": {},
     "output_type": "execute_result"
    }
   ],
   "source": [
    "# verify counts\n",
    "no_null_df.count()"
   ]
  },
  {
   "cell_type": "code",
   "execution_count": 220,
   "metadata": {},
   "outputs": [
    {
     "data": {
      "text/plain": [
       "array(['Fair', 'Cloudy', 'Mostly Cloudy', 'Wintry Mix', 'Light Snow',\n",
       "       'Partly Cloudy', 'Smoke', 'Light Rain', 'Fair / Windy',\n",
       "       'Light Drizzle', 'Cloudy / Windy', 'Fog', 'Rain', 'Shallow Fog',\n",
       "       'Light Snow / Windy', 'Haze', 'Light Rain with Thunder',\n",
       "       'Partly Cloudy / Windy', 'Heavy Rain', 'Thunder', 'Snow',\n",
       "       'Haze / Windy', 'Patches of Fog', 'Heavy T-Storm', 'T-Storm',\n",
       "       'Light Rain / Windy', 'Overcast', 'Mostly Cloudy / Windy',\n",
       "       'Thunder in the Vicinity', 'Heavy Snow', 'Small Hail',\n",
       "       'Light Freezing Rain', 'Rain / Windy', 'Drizzle',\n",
       "       'Heavy Rain / Windy', 'Snow / Windy', 'Fog / Windy', 'Clear',\n",
       "       'Heavy Drizzle', 'Light Freezing Fog', 'Smoke / Windy', 'Mist',\n",
       "       'Sleet', 'Light Drizzle / Windy', 'Squalls / Windy',\n",
       "       'Drizzle and Fog', 'Light Rain Shower', 'Squalls',\n",
       "       'Light Freezing Drizzle', 'Blowing Dust / Windy',\n",
       "       'Light Snow with Thunder', 'Heavy T-Storm / Windy',\n",
       "       'Thunder / Windy', 'T-Storm / Windy', 'Scattered Clouds',\n",
       "       'N/A Precipitation', 'Light Ice Pellets',\n",
       "       'Showers in the Vicinity', 'Heavy Snow / Windy', 'Blowing Dust',\n",
       "       'Heavy Thunderstorms and Rain', 'Blowing Snow', 'Light Sleet',\n",
       "       'Snow and Sleet / Windy', 'Light Thunderstorms and Rain',\n",
       "       'Sand / Dust Whirlwinds', 'Wintry Mix / Windy',\n",
       "       'Light Snow and Sleet', 'Light Freezing Rain / Windy',\n",
       "       'Blowing Snow / Windy', 'Widespread Dust', 'Ice Pellets',\n",
       "       'Thunderstorms and Rain', 'Rain Shower', 'Heavy Sleet',\n",
       "       'Thunder / Wintry Mix / Windy', 'Light Snow Grains',\n",
       "       'Light Thunderstorms and Snow', 'Partial Fog', 'Drizzle / Windy',\n",
       "       'Light Blowing Snow', 'Heavy Freezing Rain',\n",
       "       'Light Snow and Sleet / Windy', 'Thunderstorm'], dtype=object)"
      ]
     },
     "execution_count": 220,
     "metadata": {},
     "output_type": "execute_result"
    }
   ],
   "source": [
    "# Check for similar values in Weather Conditions\n",
    "no_null_df[\"Weather_Condition\"].unique()"
   ]
  },
  {
   "cell_type": "code",
   "execution_count": 221,
   "metadata": {},
   "outputs": [
    {
     "data": {
      "text/plain": [
       "array(['Fair', 'Cloudy', 'Light Snow', 'Light/Moderate Winter Precip',\n",
       "       'Fog', 'Light/Moderate Rain', 'Light Rain',\n",
       "       'Low Visibility (Fog/Smoke)', 'Heavy Rain/Severe Storms',\n",
       "       'Heavy Winter Precip', 'Rain', 'Low Visibilty (Fog/Smoke)'],\n",
       "      dtype=object)"
      ]
     },
     "execution_count": 221,
     "metadata": {},
     "output_type": "execute_result"
    }
   ],
   "source": [
    "# Combining similar conditions together\n",
    "no_null_df = no_null_df.replace(\n",
    "    {'Partly Cloudy': 'Cloudy', 'Mostly Cloudy': 'Cloudy', 'Partly Cloudy / Windy': 'Cloudy', 'Cloudy / Windy' : 'Cloudy', 'Overcast': 'Cloudy', 'Mostly Cloudy / Windy' :'Cloudy', \n",
    "     'Scattered Clouds' : 'Cloudy', 'Clear' :'Fair', 'Smoke' : 'Fog', 'Shallow Fog':'Fog', 'Haze': 'Fog', 'Haze / Windy': 'Fog', 'Patches of Fog': 'Fog', 'Fog / Windy': 'Fog', \n",
    "    'Light Freezing Fog' : 'Fog', 'Partial Fog' : 'Fog', 'Fair / Windy': 'Fair', 'Light Drizzle' :'Light Rain', 'Light Rain with Thunder':'Light Rain', \n",
    "     'Light Rain / Windy':'Light Rain', 'Drizzle':'Light Rain', 'Mist': 'Light Rain', 'Light Drizzle / Windy': 'Light Rain', 'N/A Precipitation' : 'Fair', \n",
    "    'Drizzle and Fog' : 'Light Rain', 'Light Rain Shower' : 'Light Rain', 'Showers in Vacinity': 'Light Rain', 'Light Thunderstorms and Rain':'Light Rain', \n",
    "     'Drizzle / Windy': 'Light Rain', 'Wintry Mix' : 'Light Snow', 'Light Snow / Windy': 'Light Snow', 'Light Freezing Rain':'Light Snow', 'Snow / Windy':'Light Snow', \n",
    "     'Sleet':'Light Snow', 'Light Freezing Drizzle':'Light Snow', 'Light Snow with Thunder':'Light Snow', 'Light Sleet': 'Light Snow', 'Snow and Sleet / Windy':'Light Snow',\n",
    "    'Wintry Mix / Windy':'Light Snow', 'Light Snow and Sleet':'Light Snow', 'Light Freezing Rain':'Light Snow', 'Light Snow Grains':'Light Snow', 'Light Blowing Snow':'Light Snow',\n",
    "    'Light Snow and Sleet / Windy': 'Light Snow', 'Rain / Windy':'Rain', 'Test Replace':'Low Visibility (Fog/Smoke)', 'Smoke / Windy':'Low Visibility (Fog/Smoke)', \n",
    "    'Blowing Dust / Windy' :'Low Visibility (Fog/Smoke)', 'Blowing Dust': 'Low Visibility (Fog/Smoke)', 'Sand / Dust Whirlwinds' :'Low Visibility (Fog/Smoke)', \n",
    "    'Widespread Dust':'Low Visibilty (Fog/Smoke)', 'Light Rain':'Light/Moderate Rain', 'Rain': 'Light/Moderate Rain', 'Showers in the Vicinity':'Light/Moderate Rain', \n",
    "    'Rain Shower':'Light/Moderate Rain', 'Heavy Rain':'Heavy Rain/Severe Storms', 'Thunder':'Heavy Rain/Severe Storms', 'Heavy T-Storm':'Heavy Rain/Severe Storms', \n",
    "    'T-Storm':'Heavy Rain/Severe Storms', 'Thunder in the Vicinity': 'Heavy Rain/Severe Storms', 'Small Hail': 'Heavy Rain/Severe Storms', \n",
    "    'Heavy Rain / Windy':'Heavy Rain/Severe Storms', 'Heavy Drizzle':'Heavy Rain/Severe Storms', 'Squalls / Windy':'Heavy Rain/Severe Storms', 'Squalls': 'Heavy Rain/Severe Storms', \n",
    "    'Heavy T-Storm / Windy':'Heavy Rain/Severe Storms', 'Thunder / Windy':'Heavy Rain/Severe Storms', 'T-Storm / Windy':'Heavy Rain/Severe Storms', \n",
    "     'Heavy Thunderstorms and Rain': 'Heavy Rain/Severe Storms', 'Light Snow':'Light/Moderate Winter Precip',\n",
    "    'Snow' : 'Light/Moderate Winter Precip', 'Fog':'Low Visibility (Fog/Smoke)', 'Light Ice Pellets' : 'Light/Moderate Winter Precip', \n",
    "    'Blowing Snow':'Light/Moderate Winter Precip', 'Light Freezing Rain / Windy' : 'Light/Moderate Winter Precip', 'Blowing Snow / Windy' : 'Light/Moderate Winter Precip', 'Ice Pellets':\n",
    "    'Light/Moderate Winter Precip', 'Light Thunderstorms and Snow': 'Light/Moderate Winter Precip', 'Heavy Snow' :'Heavy Winter Precip', 'Heavy Snow / Windy': 'Heavy Winter Precip', 'Heavy Sleet' :\n",
    "    'Heavy Winter Precip', 'Thunder / Wintry Mix / Windy': 'Heavy Winter Precip' , 'Heavy Freezing Rain' : 'Heavy Winter Precip', 'Thunderstorms and Rain' : 'Heavy Rain/Severe Storms', \n",
    "    'Thunderstorm' : 'Heavy Rain/Severe Storms', 'Low Visibilty (Fog/Smoke)': 'Low Visibility (Fog/Smoke)'})\n",
    "no_null_df[\"Weather_Condition\"].unique()"
   ]
  },
  {
   "cell_type": "code",
   "execution_count": 222,
   "metadata": {},
   "outputs": [
    {
     "data": {
      "text/plain": [
       "array(['Fair', 'Cloudy', 'Light Snow', 'Light/Moderate Winter Precip',\n",
       "       'Fog', 'Light/Moderate Rain', 'Light Rain',\n",
       "       'Low Visibility (Fog/Smoke)', 'Heavy Rain/Severe Storms',\n",
       "       'Heavy Winter Precip', 'Rain', 'Low Visibilty (Fog/Smoke)'],\n",
       "      dtype=object)"
      ]
     },
     "execution_count": 222,
     "metadata": {},
     "output_type": "execute_result"
    }
   ],
   "source": [
    "condensed_condition_df= no_null_df\n",
    "condensed_condition_df[\"Weather_Condition\"].unique()"
   ]
  },
  {
   "cell_type": "code",
   "execution_count": 223,
   "metadata": {},
   "outputs": [
    {
     "data": {
      "text/html": [
       "<div>\n",
       "<style scoped>\n",
       "    .dataframe tbody tr th:only-of-type {\n",
       "        vertical-align: middle;\n",
       "    }\n",
       "\n",
       "    .dataframe tbody tr th {\n",
       "        vertical-align: top;\n",
       "    }\n",
       "\n",
       "    .dataframe thead th {\n",
       "        text-align: right;\n",
       "    }\n",
       "</style>\n",
       "<table border=\"1\" class=\"dataframe\">\n",
       "  <thead>\n",
       "    <tr style=\"text-align: right;\">\n",
       "      <th></th>\n",
       "      <th>ID</th>\n",
       "      <th>Severity</th>\n",
       "      <th>Start_Time</th>\n",
       "      <th>End_Time</th>\n",
       "      <th>Start_Lat</th>\n",
       "      <th>Start_Lng</th>\n",
       "      <th>End_Lat</th>\n",
       "      <th>End_Lng</th>\n",
       "      <th>Distance(mi)</th>\n",
       "      <th>Description</th>\n",
       "      <th>...</th>\n",
       "      <th>Roundabout</th>\n",
       "      <th>Station</th>\n",
       "      <th>Stop</th>\n",
       "      <th>Traffic_Calming</th>\n",
       "      <th>Traffic_Signal</th>\n",
       "      <th>Turning_Loop</th>\n",
       "      <th>Sunrise_Sunset</th>\n",
       "      <th>Civil_Twilight</th>\n",
       "      <th>Nautical_Twilight</th>\n",
       "      <th>Astronomical_Twilight</th>\n",
       "    </tr>\n",
       "  </thead>\n",
       "  <tbody>\n",
       "    <tr>\n",
       "      <th>0</th>\n",
       "      <td>A-1</td>\n",
       "      <td>2</td>\n",
       "      <td>2019-05-21 08:29:55</td>\n",
       "      <td>2019-05-21 09:29:40</td>\n",
       "      <td>34.808868</td>\n",
       "      <td>-82.269157</td>\n",
       "      <td>34.808868</td>\n",
       "      <td>-82.269157</td>\n",
       "      <td>0.000</td>\n",
       "      <td>Accident on Tanner Rd at Pennbrooke Ln.</td>\n",
       "      <td>...</td>\n",
       "      <td>False</td>\n",
       "      <td>False</td>\n",
       "      <td>False</td>\n",
       "      <td>False</td>\n",
       "      <td>False</td>\n",
       "      <td>False</td>\n",
       "      <td>Day</td>\n",
       "      <td>Day</td>\n",
       "      <td>Day</td>\n",
       "      <td>Day</td>\n",
       "    </tr>\n",
       "    <tr>\n",
       "      <th>1</th>\n",
       "      <td>A-2</td>\n",
       "      <td>2</td>\n",
       "      <td>2019-10-07 17:43:09</td>\n",
       "      <td>2019-10-07 19:42:50</td>\n",
       "      <td>35.090080</td>\n",
       "      <td>-80.745560</td>\n",
       "      <td>35.090080</td>\n",
       "      <td>-80.745560</td>\n",
       "      <td>0.000</td>\n",
       "      <td>Accident on Houston Branch Rd at Providence Br...</td>\n",
       "      <td>...</td>\n",
       "      <td>False</td>\n",
       "      <td>False</td>\n",
       "      <td>False</td>\n",
       "      <td>False</td>\n",
       "      <td>False</td>\n",
       "      <td>False</td>\n",
       "      <td>Day</td>\n",
       "      <td>Day</td>\n",
       "      <td>Day</td>\n",
       "      <td>Day</td>\n",
       "    </tr>\n",
       "    <tr>\n",
       "      <th>10</th>\n",
       "      <td>A-11</td>\n",
       "      <td>2</td>\n",
       "      <td>2019-12-20 08:20:12</td>\n",
       "      <td>2019-12-20 10:05:05</td>\n",
       "      <td>28.021709</td>\n",
       "      <td>-82.203583</td>\n",
       "      <td>28.021709</td>\n",
       "      <td>-82.203583</td>\n",
       "      <td>0.000</td>\n",
       "      <td>Restrictions due to accident on US-92 at Bethl...</td>\n",
       "      <td>...</td>\n",
       "      <td>False</td>\n",
       "      <td>False</td>\n",
       "      <td>False</td>\n",
       "      <td>False</td>\n",
       "      <td>False</td>\n",
       "      <td>False</td>\n",
       "      <td>Day</td>\n",
       "      <td>Day</td>\n",
       "      <td>Day</td>\n",
       "      <td>Day</td>\n",
       "    </tr>\n",
       "    <tr>\n",
       "      <th>15</th>\n",
       "      <td>A-16</td>\n",
       "      <td>2</td>\n",
       "      <td>2019-04-11 16:35:14</td>\n",
       "      <td>2019-04-11 18:59:25</td>\n",
       "      <td>29.723339</td>\n",
       "      <td>-95.497337</td>\n",
       "      <td>29.723339</td>\n",
       "      <td>-95.497337</td>\n",
       "      <td>0.000</td>\n",
       "      <td>Accident on Westpark Dr at 14th St.</td>\n",
       "      <td>...</td>\n",
       "      <td>False</td>\n",
       "      <td>False</td>\n",
       "      <td>False</td>\n",
       "      <td>False</td>\n",
       "      <td>True</td>\n",
       "      <td>False</td>\n",
       "      <td>Day</td>\n",
       "      <td>Day</td>\n",
       "      <td>Day</td>\n",
       "      <td>Day</td>\n",
       "    </tr>\n",
       "    <tr>\n",
       "      <th>17</th>\n",
       "      <td>A-18</td>\n",
       "      <td>2</td>\n",
       "      <td>2020-11-21 16:32:00</td>\n",
       "      <td>2020-11-21 20:18:30</td>\n",
       "      <td>34.186595</td>\n",
       "      <td>-117.439427</td>\n",
       "      <td>34.185871</td>\n",
       "      <td>-117.439039</td>\n",
       "      <td>0.055</td>\n",
       "      <td>Incident on SIERRA AVE near LYTLE CREEK RD Exp...</td>\n",
       "      <td>...</td>\n",
       "      <td>False</td>\n",
       "      <td>False</td>\n",
       "      <td>False</td>\n",
       "      <td>False</td>\n",
       "      <td>False</td>\n",
       "      <td>False</td>\n",
       "      <td>Day</td>\n",
       "      <td>Day</td>\n",
       "      <td>Day</td>\n",
       "      <td>Day</td>\n",
       "    </tr>\n",
       "  </tbody>\n",
       "</table>\n",
       "<p>5 rows × 47 columns</p>\n",
       "</div>"
      ],
      "text/plain": [
       "      ID  Severity           Start_Time             End_Time  Start_Lat  \\\n",
       "0    A-1         2  2019-05-21 08:29:55  2019-05-21 09:29:40  34.808868   \n",
       "1    A-2         2  2019-10-07 17:43:09  2019-10-07 19:42:50  35.090080   \n",
       "10  A-11         2  2019-12-20 08:20:12  2019-12-20 10:05:05  28.021709   \n",
       "15  A-16         2  2019-04-11 16:35:14  2019-04-11 18:59:25  29.723339   \n",
       "17  A-18         2  2020-11-21 16:32:00  2020-11-21 20:18:30  34.186595   \n",
       "\n",
       "     Start_Lng    End_Lat     End_Lng  Distance(mi)  \\\n",
       "0   -82.269157  34.808868  -82.269157         0.000   \n",
       "1   -80.745560  35.090080  -80.745560         0.000   \n",
       "10  -82.203583  28.021709  -82.203583         0.000   \n",
       "15  -95.497337  29.723339  -95.497337         0.000   \n",
       "17 -117.439427  34.185871 -117.439039         0.055   \n",
       "\n",
       "                                          Description  ...  Roundabout  \\\n",
       "0             Accident on Tanner Rd at Pennbrooke Ln.  ...       False   \n",
       "1   Accident on Houston Branch Rd at Providence Br...  ...       False   \n",
       "10  Restrictions due to accident on US-92 at Bethl...  ...       False   \n",
       "15                Accident on Westpark Dr at 14th St.  ...       False   \n",
       "17  Incident on SIERRA AVE near LYTLE CREEK RD Exp...  ...       False   \n",
       "\n",
       "   Station   Stop Traffic_Calming Traffic_Signal Turning_Loop Sunrise_Sunset  \\\n",
       "0    False  False           False          False        False            Day   \n",
       "1    False  False           False          False        False            Day   \n",
       "10   False  False           False          False        False            Day   \n",
       "15   False  False           False           True        False            Day   \n",
       "17   False  False           False          False        False            Day   \n",
       "\n",
       "   Civil_Twilight Nautical_Twilight Astronomical_Twilight  \n",
       "0             Day               Day                   Day  \n",
       "1             Day               Day                   Day  \n",
       "10            Day               Day                   Day  \n",
       "15            Day               Day                   Day  \n",
       "17            Day               Day                   Day  \n",
       "\n",
       "[5 rows x 47 columns]"
      ]
     },
     "execution_count": 223,
     "metadata": {},
     "output_type": "execute_result"
    }
   ],
   "source": [
    "condensed_condition_df.head()"
   ]
  },
  {
   "cell_type": "code",
   "execution_count": 224,
   "metadata": {},
   "outputs": [],
   "source": [
    "cond_group = condensed_condition_df.groupby('Weather_Condition')"
   ]
  },
  {
   "cell_type": "code",
   "execution_count": 225,
   "metadata": {},
   "outputs": [
    {
     "data": {
      "text/plain": [
       "pandas.core.groupby.generic.DataFrameGroupBy"
      ]
     },
     "execution_count": 225,
     "metadata": {},
     "output_type": "execute_result"
    }
   ],
   "source": [
    "type(cond_group)"
   ]
  },
  {
   "cell_type": "code",
   "execution_count": 226,
   "metadata": {},
   "outputs": [],
   "source": [
    "count_cond = cond_group['Weather_Condition'].count()"
   ]
  },
  {
   "cell_type": "code",
   "execution_count": 227,
   "metadata": {},
   "outputs": [
    {
     "data": {
      "text/plain": [
       "Weather_Condition\n",
       "Cloudy                          208394\n",
       "Fair                            244560\n",
       "Fog                               6664\n",
       "Heavy Rain/Severe Storms          5415\n",
       "Heavy Winter Precip                252\n",
       "Light Rain                        4106\n",
       "Light Snow                        1508\n",
       "Light/Moderate Rain              32469\n",
       "Light/Moderate Winter Precip     10412\n",
       "Low Visibility (Fog/Smoke)       10383\n",
       "Low Visibilty (Fog/Smoke)            7\n",
       "Rain                               221\n",
       "Name: Weather_Condition, dtype: int64"
      ]
     },
     "execution_count": 227,
     "metadata": {},
     "output_type": "execute_result"
    }
   ],
   "source": [
    "count_cond"
   ]
  },
  {
   "cell_type": "code",
   "execution_count": 228,
   "metadata": {},
   "outputs": [
    {
     "data": {
      "image/png": "[encoded data removed]",
      "text/plain": [
       "<Figure size 1080x720 with 1 Axes>"
      ]
     },
     "metadata": {
      "needs_background": "light"
     },
     "output_type": "display_data"
    },
    {
     "data": {
      "text/plain": [
       "<Figure size 432x288 with 0 Axes>"
      ]
     },
     "metadata": {},
     "output_type": "display_data"
    }
   ],
   "source": [
    "count_cond.plot(x='Weather Condition', kind='bar', color ='blue', ylabel='Number of Accidents', title = 'Number of Accidents Per Weather Condition', figsize=(15,10))\n",
    "\n",
    "plt.show()\n",
    "plt.savefig(\"Acc_vs_Cond.png\")"
   ]
  },
  {
   "cell_type": "code",
   "execution_count": null,
   "metadata": {},
   "outputs": [],
   "source": [
    "\n",
    "\n",
    "\n",
    "labels = cond_group['Weather Condition']\n",
    "sev = cond_group[\"Severity\"]\n",
    "women_means = [25, 32, 34, 20, 25]\n",
    "men_std = [2, 3, 4, 1, 2]\n",
    "women_std = [3, 5, 2, 3, 3]\n",
    "width = 0.35       # the width of the bars: can also be len(x) sequence\n",
    "\n",
    "fig, ax = plt.subplots()\n",
    "\n",
    "ax.bar(labels, men_means, width, yerr=men_std, label='Men')\n",
    "ax.bar(labels, women_means, width, yerr=women_std, bottom=men_means,\n",
    "       label='Women')\n",
    "\n",
    "ax.set_ylabel('Scores')\n",
    "ax.set_title('Scores by group and gender')\n",
    "ax.legend()\n",
    "\n",
    "plt.show()"
   ]
  },
  {
   "cell_type": "code",
   "execution_count": 229,
   "metadata": {},
   "outputs": [],
   "source": [
    "lat = condensed_condition_df['Start_Lat']\n",
    "lon = condensed_condition_df['Start_Lng']\n",
    "\n",
    "color = {\n",
    "    \n",
    "}"
   ]
  },
  {
   "cell_type": "code",
   "execution_count": 237,
   "metadata": {},
   "outputs": [
    {
     "name": "stderr",
     "output_type": "stream",
     "text": [
      "/Applications/anaconda3/lib/python3.8/site-packages/numpy/core/_asarray.py:136: VisibleDeprecationWarning: Creating an ndarray from ragged nested sequences (which is a list-or-tuple of lists-or-tuples-or ndarrays with different lengths or shapes) is deprecated. If you meant to do this, you must specify 'dtype=object' when creating the ndarray\n",
      "  return array(a, dtype, copy=False, order=order, subok=True)\n"
     ]
    },
    {
     "ename": "ValueError",
     "evalue": "The truth value of a Series is ambiguous. Use a.empty, a.bool(), a.item(), a.any() or a.all().",
     "output_type": "error",
     "traceback": [
      "\u001b[0;31m---------------------------------------------------------------------------\u001b[0m",
      "\u001b[0;31mValueError\u001b[0m                                Traceback (most recent call last)",
      "\u001b[0;32m<ipython-input-237-49d615ec2583>\u001b[0m in \u001b[0;36m<module>\u001b[0;34m\u001b[0m\n\u001b[0;32m----> 1\u001b[0;31m \u001b[0msns\u001b[0m\u001b[0;34m.\u001b[0m\u001b[0mlmplot\u001b[0m\u001b[0;34m(\u001b[0m\u001b[0mx\u001b[0m\u001b[0;34m=\u001b[0m \u001b[0mlat\u001b[0m\u001b[0;34m,\u001b[0m \u001b[0my\u001b[0m\u001b[0;34m=\u001b[0m \u001b[0mlon\u001b[0m\u001b[0;34m,\u001b[0m \u001b[0mdata\u001b[0m\u001b[0;34m=\u001b[0m\u001b[0mcondensed_condition_df\u001b[0m\u001b[0;34m,\u001b[0m \u001b[0mhue\u001b[0m\u001b[0;34m=\u001b[0m\u001b[0;34m'Weather_Condition'\u001b[0m\u001b[0;34m,\u001b[0m \u001b[0mfit_reg\u001b[0m\u001b[0;34m=\u001b[0m\u001b[0;32mTrue\u001b[0m\u001b[0;34m)\u001b[0m\u001b[0;34m\u001b[0m\u001b[0;34m\u001b[0m\u001b[0m\n\u001b[0m",
      "\u001b[0;32m/Applications/anaconda3/lib/python3.8/site-packages/seaborn/_decorators.py\u001b[0m in \u001b[0;36minner_f\u001b[0;34m(*args, **kwargs)\u001b[0m\n\u001b[1;32m     44\u001b[0m             )\n\u001b[1;32m     45\u001b[0m         \u001b[0mkwargs\u001b[0m\u001b[0;34m.\u001b[0m\u001b[0mupdate\u001b[0m\u001b[0;34m(\u001b[0m\u001b[0;34m{\u001b[0m\u001b[0mk\u001b[0m\u001b[0;34m:\u001b[0m \u001b[0marg\u001b[0m \u001b[0;32mfor\u001b[0m \u001b[0mk\u001b[0m\u001b[0;34m,\u001b[0m \u001b[0marg\u001b[0m \u001b[0;32min\u001b[0m \u001b[0mzip\u001b[0m\u001b[0;34m(\u001b[0m\u001b[0msig\u001b[0m\u001b[0;34m.\u001b[0m\u001b[0mparameters\u001b[0m\u001b[0;34m,\u001b[0m \u001b[0margs\u001b[0m\u001b[0;34m)\u001b[0m\u001b[0;34m}\u001b[0m\u001b[0;34m)\u001b[0m\u001b[0;34m\u001b[0m\u001b[0;34m\u001b[0m\u001b[0m\n\u001b[0;32m---> 46\u001b[0;31m         \u001b[0;32mreturn\u001b[0m \u001b[0mf\u001b[0m\u001b[0;34m(\u001b[0m\u001b[0;34m**\u001b[0m\u001b[0mkwargs\u001b[0m\u001b[0;34m)\u001b[0m\u001b[0;34m\u001b[0m\u001b[0;34m\u001b[0m\u001b[0m\n\u001b[0m\u001b[1;32m     47\u001b[0m     \u001b[0;32mreturn\u001b[0m \u001b[0minner_f\u001b[0m\u001b[0;34m\u001b[0m\u001b[0;34m\u001b[0m\u001b[0m\n\u001b[1;32m     48\u001b[0m \u001b[0;34m\u001b[0m\u001b[0m\n",
      "\u001b[0;32m/Applications/anaconda3/lib/python3.8/site-packages/seaborn/regression.py\u001b[0m in \u001b[0;36mlmplot\u001b[0;34m(x, y, data, hue, col, row, palette, col_wrap, height, aspect, markers, sharex, sharey, hue_order, col_order, row_order, legend, legend_out, x_estimator, x_bins, x_ci, scatter, fit_reg, ci, n_boot, units, seed, order, logistic, lowess, robust, logx, x_partial, y_partial, truncate, x_jitter, y_jitter, scatter_kws, line_kws, size)\u001b[0m\n\u001b[1;32m    582\u001b[0m     \u001b[0;31m# Reduce the dataframe to only needed columns\u001b[0m\u001b[0;34m\u001b[0m\u001b[0;34m\u001b[0m\u001b[0;34m\u001b[0m\u001b[0m\n\u001b[1;32m    583\u001b[0m     \u001b[0mneed_cols\u001b[0m \u001b[0;34m=\u001b[0m \u001b[0;34m[\u001b[0m\u001b[0mx\u001b[0m\u001b[0;34m,\u001b[0m \u001b[0my\u001b[0m\u001b[0;34m,\u001b[0m \u001b[0mhue\u001b[0m\u001b[0;34m,\u001b[0m \u001b[0mcol\u001b[0m\u001b[0;34m,\u001b[0m \u001b[0mrow\u001b[0m\u001b[0;34m,\u001b[0m \u001b[0munits\u001b[0m\u001b[0;34m,\u001b[0m \u001b[0mx_partial\u001b[0m\u001b[0;34m,\u001b[0m \u001b[0my_partial\u001b[0m\u001b[0;34m]\u001b[0m\u001b[0;34m\u001b[0m\u001b[0;34m\u001b[0m\u001b[0m\n\u001b[0;32m--> 584\u001b[0;31m     \u001b[0mcols\u001b[0m \u001b[0;34m=\u001b[0m \u001b[0mnp\u001b[0m\u001b[0;34m.\u001b[0m\u001b[0munique\u001b[0m\u001b[0;34m(\u001b[0m\u001b[0;34m[\u001b[0m\u001b[0ma\u001b[0m \u001b[0;32mfor\u001b[0m \u001b[0ma\u001b[0m \u001b[0;32min\u001b[0m \u001b[0mneed_cols\u001b[0m \u001b[0;32mif\u001b[0m \u001b[0ma\u001b[0m \u001b[0;32mis\u001b[0m \u001b[0;32mnot\u001b[0m \u001b[0;32mNone\u001b[0m\u001b[0;34m]\u001b[0m\u001b[0;34m)\u001b[0m\u001b[0;34m.\u001b[0m\u001b[0mtolist\u001b[0m\u001b[0;34m(\u001b[0m\u001b[0;34m)\u001b[0m\u001b[0;34m\u001b[0m\u001b[0;34m\u001b[0m\u001b[0m\n\u001b[0m\u001b[1;32m    585\u001b[0m     \u001b[0mdata\u001b[0m \u001b[0;34m=\u001b[0m \u001b[0mdata\u001b[0m\u001b[0;34m[\u001b[0m\u001b[0mcols\u001b[0m\u001b[0;34m]\u001b[0m\u001b[0;34m\u001b[0m\u001b[0;34m\u001b[0m\u001b[0m\n\u001b[1;32m    586\u001b[0m \u001b[0;34m\u001b[0m\u001b[0m\n",
      "\u001b[0;32m<__array_function__ internals>\u001b[0m in \u001b[0;36munique\u001b[0;34m(*args, **kwargs)\u001b[0m\n",
      "\u001b[0;32m/Applications/anaconda3/lib/python3.8/site-packages/numpy/lib/arraysetops.py\u001b[0m in \u001b[0;36munique\u001b[0;34m(ar, return_index, return_inverse, return_counts, axis)\u001b[0m\n\u001b[1;32m    259\u001b[0m     \u001b[0mar\u001b[0m \u001b[0;34m=\u001b[0m \u001b[0mnp\u001b[0m\u001b[0;34m.\u001b[0m\u001b[0masanyarray\u001b[0m\u001b[0;34m(\u001b[0m\u001b[0mar\u001b[0m\u001b[0;34m)\u001b[0m\u001b[0;34m\u001b[0m\u001b[0;34m\u001b[0m\u001b[0m\n\u001b[1;32m    260\u001b[0m     \u001b[0;32mif\u001b[0m \u001b[0maxis\u001b[0m \u001b[0;32mis\u001b[0m \u001b[0;32mNone\u001b[0m\u001b[0;34m:\u001b[0m\u001b[0;34m\u001b[0m\u001b[0;34m\u001b[0m\u001b[0m\n\u001b[0;32m--> 261\u001b[0;31m         \u001b[0mret\u001b[0m \u001b[0;34m=\u001b[0m \u001b[0m_unique1d\u001b[0m\u001b[0;34m(\u001b[0m\u001b[0mar\u001b[0m\u001b[0;34m,\u001b[0m \u001b[0mreturn_index\u001b[0m\u001b[0;34m,\u001b[0m \u001b[0mreturn_inverse\u001b[0m\u001b[0;34m,\u001b[0m \u001b[0mreturn_counts\u001b[0m\u001b[0;34m)\u001b[0m\u001b[0;34m\u001b[0m\u001b[0;34m\u001b[0m\u001b[0m\n\u001b[0m\u001b[1;32m    262\u001b[0m         \u001b[0;32mreturn\u001b[0m \u001b[0m_unpack_tuple\u001b[0m\u001b[0;34m(\u001b[0m\u001b[0mret\u001b[0m\u001b[0;34m)\u001b[0m\u001b[0;34m\u001b[0m\u001b[0;34m\u001b[0m\u001b[0m\n\u001b[1;32m    263\u001b[0m \u001b[0;34m\u001b[0m\u001b[0m\n",
      "\u001b[0;32m/Applications/anaconda3/lib/python3.8/site-packages/numpy/lib/arraysetops.py\u001b[0m in \u001b[0;36m_unique1d\u001b[0;34m(ar, return_index, return_inverse, return_counts)\u001b[0m\n\u001b[1;32m    320\u001b[0m         \u001b[0maux\u001b[0m \u001b[0;34m=\u001b[0m \u001b[0mar\u001b[0m\u001b[0;34m[\u001b[0m\u001b[0mperm\u001b[0m\u001b[0;34m]\u001b[0m\u001b[0;34m\u001b[0m\u001b[0;34m\u001b[0m\u001b[0m\n\u001b[1;32m    321\u001b[0m     \u001b[0;32melse\u001b[0m\u001b[0;34m:\u001b[0m\u001b[0;34m\u001b[0m\u001b[0;34m\u001b[0m\u001b[0m\n\u001b[0;32m--> 322\u001b[0;31m         \u001b[0mar\u001b[0m\u001b[0;34m.\u001b[0m\u001b[0msort\u001b[0m\u001b[0;34m(\u001b[0m\u001b[0;34m)\u001b[0m\u001b[0;34m\u001b[0m\u001b[0;34m\u001b[0m\u001b[0m\n\u001b[0m\u001b[1;32m    323\u001b[0m         \u001b[0maux\u001b[0m \u001b[0;34m=\u001b[0m \u001b[0mar\u001b[0m\u001b[0;34m\u001b[0m\u001b[0;34m\u001b[0m\u001b[0m\n\u001b[1;32m    324\u001b[0m     \u001b[0mmask\u001b[0m \u001b[0;34m=\u001b[0m \u001b[0mnp\u001b[0m\u001b[0;34m.\u001b[0m\u001b[0mempty\u001b[0m\u001b[0;34m(\u001b[0m\u001b[0maux\u001b[0m\u001b[0;34m.\u001b[0m\u001b[0mshape\u001b[0m\u001b[0;34m,\u001b[0m \u001b[0mdtype\u001b[0m\u001b[0;34m=\u001b[0m\u001b[0mnp\u001b[0m\u001b[0;34m.\u001b[0m\u001b[0mbool_\u001b[0m\u001b[0;34m)\u001b[0m\u001b[0;34m\u001b[0m\u001b[0;34m\u001b[0m\u001b[0m\n",
      "\u001b[0;32m/Applications/anaconda3/lib/python3.8/site-packages/pandas/core/generic.py\u001b[0m in \u001b[0;36m__nonzero__\u001b[0;34m(self)\u001b[0m\n\u001b[1;32m   1327\u001b[0m \u001b[0;34m\u001b[0m\u001b[0m\n\u001b[1;32m   1328\u001b[0m     \u001b[0;32mdef\u001b[0m \u001b[0m__nonzero__\u001b[0m\u001b[0;34m(\u001b[0m\u001b[0mself\u001b[0m\u001b[0;34m)\u001b[0m\u001b[0;34m:\u001b[0m\u001b[0;34m\u001b[0m\u001b[0;34m\u001b[0m\u001b[0m\n\u001b[0;32m-> 1329\u001b[0;31m         raise ValueError(\n\u001b[0m\u001b[1;32m   1330\u001b[0m             \u001b[0;34mf\"The truth value of a {type(self).__name__} is ambiguous. \"\u001b[0m\u001b[0;34m\u001b[0m\u001b[0;34m\u001b[0m\u001b[0m\n\u001b[1;32m   1331\u001b[0m             \u001b[0;34m\"Use a.empty, a.bool(), a.item(), a.any() or a.all().\"\u001b[0m\u001b[0;34m\u001b[0m\u001b[0;34m\u001b[0m\u001b[0m\n",
      "\u001b[0;31mValueError\u001b[0m: The truth value of a Series is ambiguous. Use a.empty, a.bool(), a.item(), a.any() or a.all()."
     ]
    }
   ],
   "source": [
    "sns.lmplot(x= lat, y= lon, data=condensed_condition_df, hue='Weather_Condition', fit_reg=True)"
   ]
  },
  {
   "cell_type": "code",
   "execution_count": null,
   "metadata": {},
   "outputs": [],
   "source": []
  }
 ],
 "metadata": {
  "kernelspec": {
   "display_name": "Python 3",
   "language": "python",
   "name": "python3"
  },
  "language_info": {
   "codemirror_mode": {
    "name": "ipython",
    "version": 3
   },
   "file_extension": ".py",
   "mimetype": "text/x-python",
   "name": "python",
   "nbconvert_exporter": "python",
   "pygments_lexer": "ipython3",
   "version": "3.8.5"
  }
 },
 "nbformat": 4,
 "nbformat_minor": 4
}
